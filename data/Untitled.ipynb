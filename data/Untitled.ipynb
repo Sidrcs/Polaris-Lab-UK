{
 "cells": [
  {
   "cell_type": "code",
   "execution_count": 1,
   "id": "22292d4c-faec-4b60-b77d-cccea7ee173f",
   "metadata": {},
   "outputs": [],
   "source": [
    "import pandas as pd"
   ]
  },
  {
   "cell_type": "code",
   "execution_count": 2,
   "id": "08cc4382-96bc-49ec-a969-3aeb21d0b09d",
   "metadata": {},
   "outputs": [],
   "source": [
    "df = pd.read_csv(\"polarization1995_data.csv\")"
   ]
  },
  {
   "cell_type": "code",
   "execution_count": null,
   "id": "cb88794b-2f10-41fc-a164-4cbb5b63566b",
   "metadata": {},
   "outputs": [],
   "source": []
  }
 ],
 "metadata": {
  "kernelspec": {
   "display_name": "Python 3 (ipykernel)",
   "language": "python",
   "name": "python3"
  },
  "language_info": {
   "codemirror_mode": {
    "name": "ipython",
    "version": 3
   },
   "file_extension": ".py",
   "mimetype": "text/x-python",
   "name": "python",
   "nbconvert_exporter": "python",
   "pygments_lexer": "ipython3",
   "version": "3.9.7"
  }
 },
 "nbformat": 4,
 "nbformat_minor": 5
}
