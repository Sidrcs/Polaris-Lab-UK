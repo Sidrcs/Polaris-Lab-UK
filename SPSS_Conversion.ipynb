{
 "cells": [
  {
   "cell_type": "markdown",
   "id": "60c3e349",
   "metadata": {},
   "source": [
    "### British Household Panel Survey (BHPS) data conversion from SPSS to CSV workflow"
   ]
  },
  {
   "cell_type": "code",
   "execution_count": 25,
   "id": "6feeabec",
   "metadata": {},
   "outputs": [],
   "source": [
    "import pandas as pd\n",
    "import os\n",
    "import time"
   ]
  },
  {
   "cell_type": "code",
   "execution_count": 6,
   "id": "ac183788",
   "metadata": {},
   "outputs": [],
   "source": [
    "os.chdir(r\"C:\\Users\\Sidrcs\\Downloads\\SPSS\\UKDA-5151-spss\\spss\\spss19\")"
   ]
  },
  {
   "cell_type": "markdown",
   "id": "19c4acb2",
   "metadata": {},
   "source": [
    "Reading SPSS files in python is supported by <code>pyreadstat</code>. Therefore use <code> pip install pyreadstat</code>. Now, <code>pd.read_spss()</code> method works with loading of <code>.sav</code> files. The concept is outsourced from <a href = \"https://www.marsja.se/how-to-read-write-spss-files-in-python-pandas/\">marsja blog</a>"
   ]
  },
  {
   "cell_type": "code",
   "execution_count": 26,
   "id": "99b20329",
   "metadata": {},
   "outputs": [],
   "source": [
    "# iterate through 18 folders present in the directory\n",
    "for i in range(1,19):\n",
    "    folder = f\"bhps_w{i}\"\n",
    "    # lists all files within directory\n",
    "    for file in os.listdir(folder):\n",
    "        # checks for .sav files -> SPSS file format\n",
    "        if file.endswith(\".sav\"):\n",
    "            # initializes paths and folder\n",
    "            path = folder + \"\\\\\" + file\n",
    "            csv = file.split(\".\")[0]\n",
    "            export_path = folder + \"\\\\\" + csv + \".csv\"\n",
    "            \n",
    "            # loads SPSS files from path\n",
    "            df = pd.read_spss(path)\n",
    "            # exports csv files to path\n",
    "            df.to_csv(export_path)"
   ]
  },
  {
   "cell_type": "code",
   "execution_count": 27,
   "id": "f51d123b",
   "metadata": {},
   "outputs": [],
   "source": [
    "# change directory from local to GitHub\n",
    "os.chdir(r\"C:\\Users\\Sidrcs\\Documents\\Github\\Geog_575_Final_Project\\data\")"
   ]
  },
  {
   "cell_type": "markdown",
   "id": "ab853cd6",
   "metadata": {},
   "source": [
    "The below removes all <code>.sav</code> files from the directory and keeps only <code>.csv</code> files for processing."
   ]
  },
  {
   "cell_type": "code",
   "execution_count": 29,
   "id": "4e42ddb7",
   "metadata": {},
   "outputs": [],
   "source": [
    "for i in range(1,19):\n",
    "    folder = f\"bhps_w{i}\"\n",
    "    for file in os.listdir(folder):\n",
    "        if file.endswith(\".sav\"):\n",
    "            path = folder + \"\\\\\" + file\n",
    "            # removes the files from path\n",
    "            os.remove(path)"
   ]
  },
  {
   "cell_type": "code",
   "execution_count": null,
   "id": "69be69da",
   "metadata": {},
   "outputs": [],
   "source": []
  }
 ],
 "metadata": {
  "kernelspec": {
   "display_name": "Python 3 (ipykernel)",
   "language": "python",
   "name": "python3"
  },
  "language_info": {
   "codemirror_mode": {
    "name": "ipython",
    "version": 3
   },
   "file_extension": ".py",
   "mimetype": "text/x-python",
   "name": "python",
   "nbconvert_exporter": "python",
   "pygments_lexer": "ipython3",
   "version": "3.9.7"
  }
 },
 "nbformat": 4,
 "nbformat_minor": 5
}
