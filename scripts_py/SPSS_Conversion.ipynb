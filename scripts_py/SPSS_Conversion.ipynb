{
 "cells": [
  {
   "cell_type": "markdown",
   "id": "b8e1d09e",
   "metadata": {},
   "source": [
    "### British Household Panel Survey (BHPS) data conversion from SPSS to CSV workflow"
   ]
  },
  {
   "cell_type": "code",
   "execution_count": 1,
   "id": "6feeabec",
   "metadata": {},
   "outputs": [],
   "source": [
    "import pandas as pd\n",
    "import os\n",
    "import time"
   ]
  },
  {
   "cell_type": "code",
   "execution_count": 44,
   "id": "ac183788",
   "metadata": {},
   "outputs": [],
   "source": [
    "os.chdir(r\"C:\\Users\\Sidrcs\\Downloads\\SPSS_Processed\\UKDA-5151-spss\\spss\\spss19\")"
   ]
  },
  {
   "cell_type": "markdown",
   "id": "e042f1f8",
   "metadata": {},
   "source": [
    "Reading SPSS files in python is supported by <code>pyreadstat</code>. Therefore use <code> pip install pyreadstat</code>. Now, <code>pd.read_spss()</code> method works with loading of <code>.sav</code> files. The concept is outsourced from <a href = \"https://www.marsja.se/how-to-read-write-spss-files-in-python-pandas/\">marsja blog</a>"
   ]
  },
  {
   "cell_type": "code",
   "execution_count": 26,
   "id": "365fa70f",
   "metadata": {},
   "outputs": [],
   "source": [
    "for i in range(1,19):\n",
    "    folder = f\"bhps_w{i}\"\n",
    "    for file in os.listdir(folder):\n",
    "        if file.endswith(\".sav\"):\n",
    "            path = folder + \"\\\\\" + file\n",
    "            csv = file.split(\".\")[0]\n",
    "            export_path = folder + \"\\\\\" + csv + \".csv\"\n",
    "            df = pd.read_spss(path)\n",
    "            df.to_csv(export_path)"
   ]
  },
  {
   "cell_type": "code",
   "execution_count": 27,
   "id": "9cf6442b",
   "metadata": {},
   "outputs": [],
   "source": [
    "os.chdir(r\"C:\\Users\\Sidrcs\\Documents\\Github\\Geog_575_Final_Project\\data\")"
   ]
  },
  {
   "cell_type": "code",
   "execution_count": 29,
   "id": "f15d60b3",
   "metadata": {},
   "outputs": [],
   "source": [
    "for i in range(1,19):\n",
    "    folder = f\"bhps_w{i}\"\n",
    "    for file in os.listdir(folder):\n",
    "        if file.endswith(\".sav\"):\n",
    "            path = folder + \"\\\\\" + file\n",
    "            os.remove(path)"
   ]
  },
  {
   "cell_type": "code",
   "execution_count": 45,
   "id": "cb159860",
   "metadata": {},
   "outputs": [
    {
     "name": "stderr",
     "output_type": "stream",
     "text": [
      "C:\\Users\\Sidrcs\\anaconda3\\lib\\site-packages\\IPython\\core\\interactiveshell.py:3444: DtypeWarning: Columns (3,5,6,16,550,551,789,790,792,793) have mixed types.Specify dtype option on import or set low_memory=False.\n",
      "  exec(code_obj, self.user_global_ns, self.user_ns)\n"
     ]
    }
   ],
   "source": [
    "df_residence = pd.read_csv(r\"C:\\Users\\Sidrcs\\Downloads\\SPSS_Processed\\UKDA-5151-spss\\spss\\spss19\\bhps_w1\\aindresp.csv\")"
   ]
  },
  {
   "cell_type": "code",
   "execution_count": 4,
   "id": "448c3140",
   "metadata": {},
   "outputs": [],
   "source": [
    "df_jobhist = pd.read_csv(r\"C:\\Users\\Sidrcs\\Downloads\\SPSS_Processed\\UKDA-5151-spss\\spss\\spss19\\bhps_w1\\ajobhist.csv\")"
   ]
  },
  {
   "cell_type": "code",
   "execution_count": 5,
   "id": "d17ed34c",
   "metadata": {},
   "outputs": [
    {
     "data": {
      "text/html": [
       "<div>\n",
       "<style scoped>\n",
       "    .dataframe tbody tr th:only-of-type {\n",
       "        vertical-align: middle;\n",
       "    }\n",
       "\n",
       "    .dataframe tbody tr th {\n",
       "        vertical-align: top;\n",
       "    }\n",
       "\n",
       "    .dataframe thead th {\n",
       "        text-align: right;\n",
       "    }\n",
       "</style>\n",
       "<table border=\"1\" class=\"dataframe\">\n",
       "  <thead>\n",
       "    <tr style=\"text-align: right;\">\n",
       "      <th></th>\n",
       "      <th>Unnamed: 0</th>\n",
       "      <th>ahid</th>\n",
       "      <th>apno</th>\n",
       "      <th>pid</th>\n",
       "      <th>pidp</th>\n",
       "      <th>axrwght</th>\n",
       "      <th>axewght</th>\n",
       "      <th>aage</th>\n",
       "      <th>aage12</th>\n",
       "      <th>abuno</th>\n",
       "      <th>...</th>\n",
       "      <th>aj2soc_cc</th>\n",
       "      <th>ajusoc_cc</th>\n",
       "      <th>ajbsocly_cc</th>\n",
       "      <th>aspsoc_cc</th>\n",
       "      <th>ajbiscon_cc</th>\n",
       "      <th>ajliscon_cc</th>\n",
       "      <th>amaiscon_cc</th>\n",
       "      <th>apaiscon_cc</th>\n",
       "      <th>amrjiscn_cc</th>\n",
       "      <th>amaisco_cc</th>\n",
       "    </tr>\n",
       "  </thead>\n",
       "  <tbody>\n",
       "    <tr>\n",
       "      <th>count</th>\n",
       "      <td>10264.000000</td>\n",
       "      <td>1.026400e+04</td>\n",
       "      <td>10264.000000</td>\n",
       "      <td>1.026400e+04</td>\n",
       "      <td>1.026400e+04</td>\n",
       "      <td>10264.000000</td>\n",
       "      <td>10264.000000</td>\n",
       "      <td>10264.000000</td>\n",
       "      <td>10264.000000</td>\n",
       "      <td>10264.000000</td>\n",
       "      <td>...</td>\n",
       "      <td>10264.000000</td>\n",
       "      <td>10264.000000</td>\n",
       "      <td>10264.000000</td>\n",
       "      <td>10264.000000</td>\n",
       "      <td>10264.000000</td>\n",
       "      <td>10264.000000</td>\n",
       "      <td>10264.000000</td>\n",
       "      <td>10264.000000</td>\n",
       "      <td>10264.000000</td>\n",
       "      <td>10264.000000</td>\n",
       "    </tr>\n",
       "    <tr>\n",
       "      <th>mean</th>\n",
       "      <td>5131.500000</td>\n",
       "      <td>1.394265e+06</td>\n",
       "      <td>1.642537</td>\n",
       "      <td>1.473026e+07</td>\n",
       "      <td>2.184750e+08</td>\n",
       "      <td>0.965705</td>\n",
       "      <td>1.030037</td>\n",
       "      <td>44.415530</td>\n",
       "      <td>44.524454</td>\n",
       "      <td>1.395168</td>\n",
       "      <td>...</td>\n",
       "      <td>-3.139614</td>\n",
       "      <td>-4.022701</td>\n",
       "      <td>25.728956</td>\n",
       "      <td>15.672642</td>\n",
       "      <td>285.144193</td>\n",
       "      <td>150.233242</td>\n",
       "      <td>224.227689</td>\n",
       "      <td>476.299981</td>\n",
       "      <td>475.640978</td>\n",
       "      <td>224.227689</td>\n",
       "    </tr>\n",
       "    <tr>\n",
       "      <th>std</th>\n",
       "      <td>2963.105916</td>\n",
       "      <td>2.185230e+05</td>\n",
       "      <td>0.807344</td>\n",
       "      <td>2.621806e+06</td>\n",
       "      <td>2.778717e+08</td>\n",
       "      <td>0.306323</td>\n",
       "      <td>0.227267</td>\n",
       "      <td>18.457566</td>\n",
       "      <td>18.467264</td>\n",
       "      <td>0.766720</td>\n",
       "      <td>...</td>\n",
       "      <td>17.798719</td>\n",
       "      <td>16.105723</td>\n",
       "      <td>34.715797</td>\n",
       "      <td>32.716359</td>\n",
       "      <td>308.951751</td>\n",
       "      <td>287.328767</td>\n",
       "      <td>322.563857</td>\n",
       "      <td>339.919032</td>\n",
       "      <td>277.314799</td>\n",
       "      <td>322.563857</td>\n",
       "    </tr>\n",
       "    <tr>\n",
       "      <th>min</th>\n",
       "      <td>0.000000</td>\n",
       "      <td>1.000209e+06</td>\n",
       "      <td>1.000000</td>\n",
       "      <td>1.000225e+07</td>\n",
       "      <td>6.870000e+02</td>\n",
       "      <td>0.000000</td>\n",
       "      <td>0.214160</td>\n",
       "      <td>15.000000</td>\n",
       "      <td>15.000000</td>\n",
       "      <td>1.000000</td>\n",
       "      <td>...</td>\n",
       "      <td>-9.000000</td>\n",
       "      <td>-9.000000</td>\n",
       "      <td>-9.000000</td>\n",
       "      <td>-9.000000</td>\n",
       "      <td>-9.000000</td>\n",
       "      <td>-9.000000</td>\n",
       "      <td>-9.000000</td>\n",
       "      <td>-9.000000</td>\n",
       "      <td>-9.000000</td>\n",
       "      <td>-9.000000</td>\n",
       "    </tr>\n",
       "    <tr>\n",
       "      <th>25%</th>\n",
       "      <td>2565.750000</td>\n",
       "      <td>1.204823e+06</td>\n",
       "      <td>1.000000</td>\n",
       "      <td>1.245758e+07</td>\n",
       "      <td>2.360118e+06</td>\n",
       "      <td>0.844836</td>\n",
       "      <td>0.906451</td>\n",
       "      <td>29.000000</td>\n",
       "      <td>29.000000</td>\n",
       "      <td>1.000000</td>\n",
       "      <td>...</td>\n",
       "      <td>-8.000000</td>\n",
       "      <td>-8.000000</td>\n",
       "      <td>-8.000000</td>\n",
       "      <td>-8.000000</td>\n",
       "      <td>-8.000000</td>\n",
       "      <td>-8.000000</td>\n",
       "      <td>-8.000000</td>\n",
       "      <td>131.000000</td>\n",
       "      <td>243.000000</td>\n",
       "      <td>-8.000000</td>\n",
       "    </tr>\n",
       "    <tr>\n",
       "      <th>50%</th>\n",
       "      <td>5131.500000</td>\n",
       "      <td>1.394219e+06</td>\n",
       "      <td>1.000000</td>\n",
       "      <td>1.472922e+07</td>\n",
       "      <td>4.721587e+06</td>\n",
       "      <td>0.966817</td>\n",
       "      <td>1.016328</td>\n",
       "      <td>42.000000</td>\n",
       "      <td>42.000000</td>\n",
       "      <td>1.000000</td>\n",
       "      <td>...</td>\n",
       "      <td>-8.000000</td>\n",
       "      <td>-8.000000</td>\n",
       "      <td>19.000000</td>\n",
       "      <td>-8.000000</td>\n",
       "      <td>214.000000</td>\n",
       "      <td>-8.000000</td>\n",
       "      <td>-8.000000</td>\n",
       "      <td>522.000000</td>\n",
       "      <td>421.000000</td>\n",
       "      <td>-8.000000</td>\n",
       "    </tr>\n",
       "    <tr>\n",
       "      <th>75%</th>\n",
       "      <td>7697.250000</td>\n",
       "      <td>1.586696e+06</td>\n",
       "      <td>2.000000</td>\n",
       "      <td>1.703904e+07</td>\n",
       "      <td>4.104788e+08</td>\n",
       "      <td>1.103551</td>\n",
       "      <td>1.142733</td>\n",
       "      <td>59.000000</td>\n",
       "      <td>59.000000</td>\n",
       "      <td>2.000000</td>\n",
       "      <td>...</td>\n",
       "      <td>-8.000000</td>\n",
       "      <td>-8.000000</td>\n",
       "      <td>52.000000</td>\n",
       "      <td>41.000000</td>\n",
       "      <td>513.000000</td>\n",
       "      <td>231.000000</td>\n",
       "      <td>511.000000</td>\n",
       "      <td>744.000000</td>\n",
       "      <td>723.000000</td>\n",
       "      <td>511.000000</td>\n",
       "    </tr>\n",
       "    <tr>\n",
       "      <th>max</th>\n",
       "      <td>10263.000000</td>\n",
       "      <td>1.761811e+06</td>\n",
       "      <td>7.000000</td>\n",
       "      <td>1.914051e+07</td>\n",
       "      <td>8.200433e+08</td>\n",
       "      <td>2.499446</td>\n",
       "      <td>2.498486</td>\n",
       "      <td>96.000000</td>\n",
       "      <td>97.000000</td>\n",
       "      <td>7.000000</td>\n",
       "      <td>...</td>\n",
       "      <td>99.000000</td>\n",
       "      <td>99.000000</td>\n",
       "      <td>99.000000</td>\n",
       "      <td>99.000000</td>\n",
       "      <td>933.000000</td>\n",
       "      <td>933.000000</td>\n",
       "      <td>933.000000</td>\n",
       "      <td>933.000000</td>\n",
       "      <td>933.000000</td>\n",
       "      <td>933.000000</td>\n",
       "    </tr>\n",
       "  </tbody>\n",
       "</table>\n",
       "<p>8 rows × 27 columns</p>\n",
       "</div>"
      ],
      "text/plain": [
       "         Unnamed: 0          ahid          apno           pid          pidp  \\\n",
       "count  10264.000000  1.026400e+04  10264.000000  1.026400e+04  1.026400e+04   \n",
       "mean    5131.500000  1.394265e+06      1.642537  1.473026e+07  2.184750e+08   \n",
       "std     2963.105916  2.185230e+05      0.807344  2.621806e+06  2.778717e+08   \n",
       "min        0.000000  1.000209e+06      1.000000  1.000225e+07  6.870000e+02   \n",
       "25%     2565.750000  1.204823e+06      1.000000  1.245758e+07  2.360118e+06   \n",
       "50%     5131.500000  1.394219e+06      1.000000  1.472922e+07  4.721587e+06   \n",
       "75%     7697.250000  1.586696e+06      2.000000  1.703904e+07  4.104788e+08   \n",
       "max    10263.000000  1.761811e+06      7.000000  1.914051e+07  8.200433e+08   \n",
       "\n",
       "            axrwght       axewght          aage        aage12         abuno  \\\n",
       "count  10264.000000  10264.000000  10264.000000  10264.000000  10264.000000   \n",
       "mean       0.965705      1.030037     44.415530     44.524454      1.395168   \n",
       "std        0.306323      0.227267     18.457566     18.467264      0.766720   \n",
       "min        0.000000      0.214160     15.000000     15.000000      1.000000   \n",
       "25%        0.844836      0.906451     29.000000     29.000000      1.000000   \n",
       "50%        0.966817      1.016328     42.000000     42.000000      1.000000   \n",
       "75%        1.103551      1.142733     59.000000     59.000000      2.000000   \n",
       "max        2.499446      2.498486     96.000000     97.000000      7.000000   \n",
       "\n",
       "       ...     aj2soc_cc     ajusoc_cc   ajbsocly_cc     aspsoc_cc  \\\n",
       "count  ...  10264.000000  10264.000000  10264.000000  10264.000000   \n",
       "mean   ...     -3.139614     -4.022701     25.728956     15.672642   \n",
       "std    ...     17.798719     16.105723     34.715797     32.716359   \n",
       "min    ...     -9.000000     -9.000000     -9.000000     -9.000000   \n",
       "25%    ...     -8.000000     -8.000000     -8.000000     -8.000000   \n",
       "50%    ...     -8.000000     -8.000000     19.000000     -8.000000   \n",
       "75%    ...     -8.000000     -8.000000     52.000000     41.000000   \n",
       "max    ...     99.000000     99.000000     99.000000     99.000000   \n",
       "\n",
       "        ajbiscon_cc   ajliscon_cc   amaiscon_cc   apaiscon_cc   amrjiscn_cc  \\\n",
       "count  10264.000000  10264.000000  10264.000000  10264.000000  10264.000000   \n",
       "mean     285.144193    150.233242    224.227689    476.299981    475.640978   \n",
       "std      308.951751    287.328767    322.563857    339.919032    277.314799   \n",
       "min       -9.000000     -9.000000     -9.000000     -9.000000     -9.000000   \n",
       "25%       -8.000000     -8.000000     -8.000000    131.000000    243.000000   \n",
       "50%      214.000000     -8.000000     -8.000000    522.000000    421.000000   \n",
       "75%      513.000000    231.000000    511.000000    744.000000    723.000000   \n",
       "max      933.000000    933.000000    933.000000    933.000000    933.000000   \n",
       "\n",
       "         amaisco_cc  \n",
       "count  10264.000000  \n",
       "mean     224.227689  \n",
       "std      322.563857  \n",
       "min       -9.000000  \n",
       "25%       -8.000000  \n",
       "50%       -8.000000  \n",
       "75%      511.000000  \n",
       "max      933.000000  \n",
       "\n",
       "[8 rows x 27 columns]"
      ]
     },
     "execution_count": 5,
     "metadata": {},
     "output_type": "execute_result"
    }
   ],
   "source": [
    "df_residence.describe()"
   ]
  },
  {
   "cell_type": "code",
   "execution_count": 32,
   "id": "55f483f6",
   "metadata": {},
   "outputs": [
    {
     "data": {
      "text/plain": [
       "inapplicable                   485\n",
       "Sheffield                      234\n",
       "Birmingham                     217\n",
       "missing or wild                177\n",
       "Edinburgh City                 176\n",
       "                              ... \n",
       "Devon n.o.s.                     1\n",
       "Essex n.o.s.                     1\n",
       "Darlington; Teesdale             1\n",
       "Northern Ireland                 1\n",
       "NW Highlands; Western Isles      1\n",
       "Name: aplb4d, Length: 290, dtype: int64"
      ]
     },
     "execution_count": 32,
     "metadata": {},
     "output_type": "execute_result"
    }
   ],
   "source": [
    "# Let us only take for England counties for now\n",
    "df_residence[\"aplb4d\"].value_counts()"
   ]
  },
  {
   "cell_type": "code",
   "execution_count": 42,
   "id": "5f3e8416",
   "metadata": {},
   "outputs": [
    {
     "name": "stdout",
     "output_type": "stream",
     "text": [
      "inapplicable                             485\n",
      "Sheffield                                234\n",
      "Birmingham                               217\n",
      "missing or wild                          177\n",
      "Edinburgh City                           176\n",
      "Wakefield                                159\n",
      "Manchester                               149\n",
      "Newcastle upon Tyne                      127\n",
      "Alyn & Deeside; Delyn; Wrexham Maelor    123\n",
      "Bradford                                 113\n",
      "Allerdale; Carlisle                      109\n",
      "Wirral                                   105\n",
      "Dundee City                               98\n",
      "Thamesdown                                96\n",
      "Lambeth                                   95\n",
      "Milton Keynes                             85\n",
      "Blaenau Gwent; Islywn                     83\n",
      "Cunninghame                               82\n",
      "E Staff; Staffordshire Moorlands          79\n",
      "Lewisham                                  78\n",
      "Broadland; Norwich                        78\n",
      "Blackburn                                 78\n",
      "Amber Valley; NE Derbyshire               77\n",
      "Sandwell                                  75\n",
      "Leeds                                     75\n",
      "Gateshead                                 74\n",
      "Hartlepool; Stockton                      74\n",
      "Merton                                    74\n",
      "Dudley                                    73\n",
      "Plymouth                                  73\n",
      "Stoke-on-Trent                            72\n",
      "Cleethorpes; Great Grimsby                72\n",
      "Arun                                      70\n",
      "Wycombe                                   68\n",
      "Macclesfield                              66\n",
      "Huntingdonshire                           65\n",
      "Kennet; Salisbury                         64\n",
      "Sevenoaks; Tonbridge & Malling            64\n",
      "Bromsgrove; Wyre Forest                   63\n",
      "Bath; Kingswood; Wansdyke                 61\n",
      "Bromley                                   61\n",
      "Bolton                                    61\n",
      "Name: aplb4d, dtype: int64\n"
     ]
    }
   ],
   "source": [
    "counts = df_residence[\"aplb4d\"].value_counts()\n",
    "counts_gt_100 = counts[counts >60]\n",
    "print(counts_gt_100)"
   ]
  },
  {
   "cell_type": "code",
   "execution_count": 15,
   "id": "16dc0b45",
   "metadata": {},
   "outputs": [
    {
     "data": {
      "text/plain": [
       "Agree               2766\n",
       "Disagree            2679\n",
       "Not agree/disagr    2656\n",
       "Strongly disagr      836\n",
       "don't know           521\n",
       "Strongly agree       433\n",
       "proxy                352\n",
       "missing or wild       18\n",
       "refused                3\n",
       "Name: aopsocc, dtype: int64"
      ]
     },
     "execution_count": 15,
     "metadata": {},
     "output_type": "execute_result"
    }
   ],
   "source": [
    "#S1: Private Enterprise is the best way to solve Britains's economic problems\n",
    "df_residence[\"aopsocc\"].value_counts()"
   ]
  },
  {
   "cell_type": "code",
   "execution_count": 16,
   "id": "b918e335",
   "metadata": {},
   "outputs": [
    {
     "data": {
      "text/plain": [
       "Agree              3249\n",
       "Disagree           2780\n",
       "Not agree/disag    2059\n",
       "Strongly disagr     765\n",
       "Strongly agree      602\n",
       "don't know          437\n",
       "proxy               352\n",
       "missing or wild      15\n",
       "refused               5\n",
       "Name: aopsocd, dtype: int64"
      ]
     },
     "execution_count": 16,
     "metadata": {},
     "output_type": "execute_result"
    }
   ],
   "source": [
    "#S2: Major public services and industries ought to be in state ownership\n",
    "df_residence[\"aopsocd\"].value_counts()"
   ]
  },
  {
   "cell_type": "code",
   "execution_count": 17,
   "id": "a21b5677",
   "metadata": {},
   "outputs": [
    {
     "data": {
      "text/plain": [
       "Agree              3990\n",
       "Disagree           3123\n",
       "Not agree/disag    1110\n",
       "Strongly disagr     791\n",
       "Strongly agree      772\n",
       "proxy               352\n",
       "don't know          107\n",
       "missing or wild      16\n",
       "refused               3\n",
       "Name: aopsoce, dtype: int64"
      ]
     },
     "execution_count": 17,
     "metadata": {},
     "output_type": "execute_result"
    }
   ],
   "source": [
    "#S3: It is the government's responsibility to provide a job for everyone who wants one\n",
    "df_residence[\"aopsoce\"].value_counts()"
   ]
  },
  {
   "cell_type": "code",
   "execution_count": 22,
   "id": "314022d6",
   "metadata": {},
   "outputs": [
    {
     "data": {
      "text/plain": [
       "44.0    239\n",
       "26.0    234\n",
       "30.0    231\n",
       "31.0    227\n",
       "34.0    220\n",
       "       ... \n",
       "92.0      2\n",
       "96.0      1\n",
       "94.0      1\n",
       "97.0      1\n",
       "15.0      1\n",
       "Name: aage12, Length: 82, dtype: int64"
      ]
     },
     "execution_count": 22,
     "metadata": {},
     "output_type": "execute_result"
    }
   ],
   "source": [
    "#Need to compute - standard deviation of individual age in a county: \"aage12\" age of survey respondent \n",
    "df_residence[\"aage12\"].value_counts()"
   ]
  },
  {
   "cell_type": "code",
   "execution_count": 38,
   "id": "c4483efc",
   "metadata": {},
   "outputs": [
    {
     "data": {
      "text/plain": [
       "proxy                 352\n",
       "0.0                   213\n",
       "60.0                  112\n",
       "600.0                  79\n",
       "1800.0                 37\n",
       "                     ... \n",
       "5557.72216796875        1\n",
       "18265.119140625         1\n",
       "414.05621337890625      1\n",
       "22905.3125              1\n",
       "4783.30029296875        1\n",
       "Name: afiyr, Length: 8561, dtype: int64"
      ]
     },
     "execution_count": 38,
     "metadata": {},
     "output_type": "execute_result"
    }
   ],
   "source": [
    "# Need to compute - income inequality using Gini coefficient for each county\n",
    "# \"afiyr\" : Self-reported annual income\n",
    "df_residence[\"afiyr\"].value_counts()"
   ]
  },
  {
   "cell_type": "code",
   "execution_count": 27,
   "id": "772a07bc",
   "metadata": {},
   "outputs": [
    {
     "data": {
      "text/plain": [
       "inapplicable           9244\n",
       "missing or wild         312\n",
       "other country           191\n",
       "republic of ireland     107\n",
       "india                    73\n",
       "germany                  46\n",
       "pakistan                 45\n",
       "jamaica                  33\n",
       "kenya                    33\n",
       "italy                    23\n",
       "u.s.a                    21\n",
       "south africa             18\n",
       "australia                18\n",
       "uganda                   15\n",
       "cyprus                   14\n",
       "bangladesh               13\n",
       "china/ hong kong         10\n",
       "new zealand              10\n",
       "poland                   10\n",
       "canada                    9\n",
       "ghana                     5\n",
       "france                    5\n",
       "sri lanka                 4\n",
       "turkey                    3\n",
       "29.0                      2\n",
       "Name: aplbornc_cc, dtype: int64"
      ]
     },
     "execution_count": 27,
     "metadata": {},
     "output_type": "execute_result"
    }
   ],
   "source": [
    "# consider inapplicable as residents of UK?\n",
    "df_residence[\"aplbornc_cc\"].value_counts()"
   ]
  },
  {
   "cell_type": "code",
   "execution_count": 39,
   "id": "1bf29547",
   "metadata": {},
   "outputs": [
    {
     "data": {
      "text/plain": [
       "None of the above       6647\n",
       "College of f educ       1436\n",
       "Other trng establmnt     683\n",
       "University               619\n",
       "Polytechnic              357\n",
       "Nursing school etc       285\n",
       "inapplicable             176\n",
       "missing or wild           56\n",
       "don't know                 4\n",
       "refused                    1\n",
       "Name: afetype, dtype: int64"
      ]
     },
     "execution_count": 39,
     "metadata": {},
     "output_type": "execute_result"
    }
   ],
   "source": [
    "df_residence[\"afetype\"].value_counts()"
   ]
  },
  {
   "cell_type": "code",
   "execution_count": 40,
   "id": "d9642534",
   "metadata": {},
   "outputs": [
    {
     "data": {
      "text/plain": [
       "In paid employ             4950\n",
       "Retired                    1758\n",
       "Family care                1169\n",
       "Self employed               760\n",
       "Unemployed                  532\n",
       "FT student                  376\n",
       "proxy                       352\n",
       "Long term sick/disabled     267\n",
       "Something else               39\n",
       "Govt trng scheme             33\n",
       "On matern leave              15\n",
       "missing or wild              13\n",
       "Name: ajbstatt, dtype: int64"
      ]
     },
     "execution_count": 40,
     "metadata": {},
     "output_type": "execute_result"
    }
   ],
   "source": [
    "df_residence[\"ajbstatt\"].value_counts()"
   ]
  },
  {
   "cell_type": "markdown",
   "id": "4f703726",
   "metadata": {},
   "source": [
    "## Interested variables for visualization\n",
    "Look for <code>aindresp.csv</code>. Required variables are: (These are columns names and their corresponding interpretation) <ul><li><code>aopsocc</code> : \"Private enterprise is the best way to solve Britain’s economic problems\"</li> <li><code>aopsocd</code> : \"Major public services and industries ought to be in state ownership\"</li> <li><code>aopsoce</code> : \"It is the government’s responsibility to provide a job for everyone who wants one\" </li> <li><code>afiyr</code> : Self-reported annual income</li> <li><code>afetype</code> : Educational qualification</li> <li><code>aplobornc_cc</code> : Country of birth</li> <li><code>aage12</code> : Age</li> <li><code>ajbstatt</code> : Employment status</li> <li><code>aplb4d</code> : county name</li></ul>"
   ]
  },
  {
   "cell_type": "markdown",
   "id": "3a6ce463",
   "metadata": {},
   "source": [
    "### Task: create a dictionary for <code>aplb4d</code> as key and FID values in ArcGIS for that county as values. The output CSV should have the aforementioned information"
   ]
  },
  {
   "cell_type": "markdown",
   "id": "dbc35a8b",
   "metadata": {},
   "source": [
    "### Calculation of income inequality by Gini index in each county"
   ]
  },
  {
   "cell_type": "code",
   "execution_count": 58,
   "id": "6979cbc2",
   "metadata": {},
   "outputs": [
    {
     "name": "stdout",
     "output_type": "stream",
     "text": [
      "                                       Gini Index\n",
      "aplb4d                                           \n",
      "Aberdeen City                                 NaN\n",
      "Adur; Worthing                                NaN\n",
      "Allerdale; Carlisle                           NaN\n",
      "Alnwick; Berwick; Morpeth; Tynedale     -0.377750\n",
      "Alyn & Deeside; Delyn; Wrexham Maelor         NaN\n",
      "...                                           ...\n",
      "Wycombe                                       NaN\n",
      "don't know                                    NaN\n",
      "inapplicable                                  NaN\n",
      "missing or wild                               NaN\n",
      "refused                                 -0.575768\n",
      "\n",
      "[290 rows x 1 columns]\n"
     ]
    }
   ],
   "source": [
    "import numpy as np\n",
    "import pandas as pd\n",
    "\n",
    "# convert \"afiyr\" column to float data type\n",
    "df_residence[\"afiyr\"] = df_residence[\"afiyr\"].astype(\"float32\")\n",
    "\n",
    "# group incomes by county\n",
    "grouped = df_residence.groupby(\"aplb4d\")\n",
    "\n",
    "# define a function to calculate the Gini index\n",
    "def gini_coefficient(x):\n",
    "    # sort incomes in ascending order\n",
    "    x = np.sort(x)\n",
    "    # calculate cumulative share of income\n",
    "    cum_income = np.cumsum(x) / np.sum(x)\n",
    "    # calculate cumulative share of population\n",
    "    cum_pop = np.arange(1, len(x)+1) / len(x)\n",
    "    # calculate area between Lorenz curve and line of perfect equality\n",
    "    area = np.trapz(cum_income, cum_pop)\n",
    "    # calculate Gini coefficient\n",
    "    gini = 2*area - 1\n",
    "    return gini\n",
    "\n",
    "# apply the function to each county group\n",
    "gini_by_county = grouped[\"afiyr\"].apply(gini_coefficient)\n",
    "\n",
    "# create a new DataFrame with the results\n",
    "gini_df = pd.DataFrame({\"Gini Index\": gini_by_county})\n",
    "\n",
    "# display the results\n",
    "print(gini_df)"
   ]
  },
  {
   "cell_type": "markdown",
   "id": "55b1269c",
   "metadata": {},
   "source": [
    "### Calculation of variability of the highest educational qualifcation in each county"
   ]
  },
  {
   "cell_type": "code",
   "execution_count": 59,
   "id": "61c4b53b",
   "metadata": {},
   "outputs": [
    {
     "name": "stdout",
     "output_type": "stream",
     "text": [
      "                                       Dissimilarity Index\n",
      "aplb4d                                                    \n",
      "Aberdeen City                                     2.392857\n",
      "Adur; Worthing                                    1.921053\n",
      "Allerdale; Carlisle                               2.467890\n",
      "Alnwick; Berwick; Morpeth; Tynedale               0.642857\n",
      "Alyn & Deeside; Delyn; Wrexham Maelor             3.349593\n",
      "...                                                    ...\n",
      "Wycombe                                           2.705882\n",
      "don't know                                        0.500000\n",
      "inapplicable                                      3.084536\n",
      "missing or wild                                   2.754237\n",
      "refused                                           1.333333\n",
      "\n",
      "[290 rows x 1 columns]\n"
     ]
    }
   ],
   "source": [
    "import numpy as np\n",
    "import pandas as pd\n",
    "\n",
    "# group individuals by county\n",
    "grouped = df_residence.groupby(\"aplb4d\")\n",
    "\n",
    "# define a function to calculate the dissimilarity index\n",
    "def dissimilarity_index(x):\n",
    "    # calculate the proportion of individuals in each occupation category\n",
    "    p = x[\"afetype\"].value_counts(normalize=True)\n",
    "    # calculate the proportion of individuals in each occupation category for the complement group\n",
    "    q = 1 - p\n",
    "    # calculate the dissimilarity index\n",
    "    dissimilarity = 0.5 * np.sum(np.abs(p - q))\n",
    "    return dissimilarity\n",
    "\n",
    "# apply the function to each county group\n",
    "dissimilarity_by_county = grouped.apply(dissimilarity_index)\n",
    "\n",
    "# create a new DataFrame with the results\n",
    "dissimilarity_df = pd.DataFrame({\"Dissimilarity Index\": dissimilarity_by_county})\n",
    "\n",
    "# display the results\n",
    "print(dissimilarity_df)"
   ]
  },
  {
   "cell_type": "markdown",
   "id": "119ce140",
   "metadata": {},
   "source": [
    "### Calculation of variability of job status in each county"
   ]
  },
  {
   "cell_type": "code",
   "execution_count": 60,
   "id": "2f0a3755",
   "metadata": {},
   "outputs": [
    {
     "name": "stdout",
     "output_type": "stream",
     "text": [
      "                                       Dissimilarity Index\n",
      "aplb4d                                                    \n",
      "Aberdeen City                                     3.214286\n",
      "Adur; Worthing                                    2.500000\n",
      "Allerdale; Carlisle                               3.211009\n",
      "Alnwick; Berwick; Morpeth; Tynedale               1.000000\n",
      "Alyn & Deeside; Delyn; Wrexham Maelor             3.500000\n",
      "...                                                    ...\n",
      "Wycombe                                           3.529412\n",
      "don't know                                        0.500000\n",
      "inapplicable                                      4.014433\n",
      "missing or wild                                   3.709040\n",
      "refused                                           2.500000\n",
      "\n",
      "[290 rows x 1 columns]\n"
     ]
    }
   ],
   "source": [
    "import numpy as np\n",
    "import pandas as pd\n",
    "\n",
    "# group individuals by county\n",
    "grouped = df_residence.groupby(\"aplb4d\")\n",
    "\n",
    "# define a function to calculate the dissimilarity index\n",
    "def dissimilarity_index(x):\n",
    "    # calculate the proportion of individuals in each occupation category\n",
    "    p = x[\"ajbstatt\"].value_counts(normalize=True)\n",
    "    # calculate the proportion of individuals in each occupation category for the complement group\n",
    "    q = 1 - p\n",
    "    # calculate the dissimilarity index\n",
    "    dissimilarity = 0.5 * np.sum(np.abs(p - q))\n",
    "    return dissimilarity\n",
    "\n",
    "# apply the function to each county group\n",
    "dissimilarity_by_county = grouped.apply(dissimilarity_index)\n",
    "\n",
    "# create a new DataFrame with the results\n",
    "dissimilarity_df = pd.DataFrame({\"Dissimilarity Index\": dissimilarity_by_county})\n",
    "\n",
    "# display the results\n",
    "print(dissimilarity_df)"
   ]
  },
  {
   "cell_type": "code",
   "execution_count": null,
   "id": "41dee2cc",
   "metadata": {},
   "outputs": [],
   "source": []
  }
 ],
 "metadata": {
  "kernelspec": {
   "display_name": "Python 3 (ipykernel)",
   "language": "python",
   "name": "python3"
  },
  "language_info": {
   "codemirror_mode": {
    "name": "ipython",
    "version": 3
   },
   "file_extension": ".py",
   "mimetype": "text/x-python",
   "name": "python",
   "nbconvert_exporter": "python",
   "pygments_lexer": "ipython3",
   "version": "3.9.7"
  }
 },
 "nbformat": 4,
 "nbformat_minor": 5
}
