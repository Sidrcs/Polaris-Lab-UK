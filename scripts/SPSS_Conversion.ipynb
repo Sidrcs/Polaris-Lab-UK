{
 "cells": [
  {
   "cell_type": "markdown",
   "id": "b8e1d09e",
   "metadata": {},
   "source": [
    "### British Household Panel Survey (BHPS) data conversion from SPSS to CSV workflow"
   ]
  },
  {
   "cell_type": "code",
   "execution_count": 25,
   "id": "6feeabec",
   "metadata": {},
   "outputs": [],
   "source": [
    "import pandas as pd\n",
    "import os\n",
    "import time"
   ]
  },
  {
   "cell_type": "code",
   "execution_count": 6,
   "id": "ac183788",
   "metadata": {},
   "outputs": [],
   "source": [
    "os.chdir(r\"C:\\Users\\Sidrcs\\Downloads\\SPSS\\UKDA-5151-spss\\spss\\spss19\")"
   ]
  },
  {
   "cell_type": "markdown",
   "id": "e042f1f8",
   "metadata": {},
   "source": [
    "Reading SPSS files in python is supported by <code>pyreadstat</code>. Therefore use <code> pip install pyreadstat</code>. Now, <code>pd.read_spss()</code> method works with loading of <code>.sav</code> files. The concept is outsourced from <a href = \"https://www.marsja.se/how-to-read-write-spss-files-in-python-pandas/\">marsja blog</a>"
   ]
  },
  {
   "cell_type": "code",
   "execution_count": 26,
   "id": "365fa70f",
   "metadata": {},
   "outputs": [],
   "source": [
    "for i in range(1,19):\n",
    "    folder = f\"bhps_w{i}\"\n",
    "    for file in os.listdir(folder):\n",
    "        if file.endswith(\".sav\"):\n",
    "            path = folder + \"\\\\\" + file\n",
    "            csv = file.split(\".\")[0]\n",
    "            export_path = folder + \"\\\\\" + csv + \".csv\"\n",
    "            df = pd.read_spss(path)\n",
    "            df.to_csv(export_path)"
   ]
  },
  {
   "cell_type": "code",
   "execution_count": 27,
   "id": "9cf6442b",
   "metadata": {},
   "outputs": [],
   "source": [
    "os.chdir(r\"C:\\Users\\Sidrcs\\Documents\\Github\\Geog_575_Final_Project\\data\")"
   ]
  },
  {
   "cell_type": "code",
   "execution_count": 29,
   "id": "f15d60b3",
   "metadata": {},
   "outputs": [],
   "source": [
    "for i in range(1,19):\n",
    "    folder = f\"bhps_w{i}\"\n",
    "    for file in os.listdir(folder):\n",
    "        if file.endswith(\".sav\"):\n",
    "            path = folder + \"\\\\\" + file\n",
    "            os.remove(path)"
   ]
  },
  {
   "cell_type": "code",
   "execution_count": null,
   "id": "cb159860",
   "metadata": {},
   "outputs": [],
   "source": []
  }
 ],
 "metadata": {
  "kernelspec": {
   "display_name": "Python 3 (ipykernel)",
   "language": "python",
   "name": "python3"
  },
  "language_info": {
   "codemirror_mode": {
    "name": "ipython",
    "version": 3
   },
   "file_extension": ".py",
   "mimetype": "text/x-python",
   "name": "python",
   "nbconvert_exporter": "python",
   "pygments_lexer": "ipython3",
   "version": "3.9.7"
  }
 },
 "nbformat": 4,
 "nbformat_minor": 5
}
